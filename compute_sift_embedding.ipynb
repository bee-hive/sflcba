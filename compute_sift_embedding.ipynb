{
 "cells": [
  {
   "cell_type": "code",
   "execution_count": 1,
   "id": "d17497c1-9eb3-458d-b059-1fea851ed67b",
   "metadata": {
    "execution": {
     "iopub.execute_input": "2025-02-24T03:07:41.255266Z",
     "iopub.status.busy": "2025-02-24T03:07:41.255009Z",
     "iopub.status.idle": "2025-02-24T03:07:42.204946Z",
     "shell.execute_reply": "2025-02-24T03:07:42.204452Z"
    }
   },
   "outputs": [],
   "source": [
    "# how do aggregated differ across time and space\n",
    "# aggregates have regions of dead and alive cells - a couple images to show that - showed\n",
    "# aggregates are made up of multiple nuclei - image to show that. python or something - showed\n",
    "# aggregate composition may be different across different treatement types and times...across\n",
    "# across time and treatment type nuclei may be of different intensities, distributed across the cells\n",
    "\n",
    "# Are these linear relationships or not \n",
    "import numpy as np\n",
    "import cv2 as cv\n",
    "import matplotlib.pyplot as plt\n",
    "import tiffile as tiff\n",
    "import glob\n",
    "import re\n",
    "import random\n",
    "from skimage.feature import SIFT as sift\n",
    "import itertools\n",
    "import anndata as ad\n",
    "from sklearn.decomposition import PCA\n",
    "from sklearn.preprocessing import StandardScaler\n",
    "import datetime\n",
    "\n",
    "random.seed(0)\n",
    "\n",
    "\n",
    "def blockshaped(arr, nrows, ncols):\n",
    "    \"\"\"\n",
    "    Return an array of shape (n, nrows, ncols) where\n",
    "    n * nrows * ncols = arr.size\n",
    "\n",
    "    If arr is a 2D array, the returned array should look like n subblocks with\n",
    "    each subblock preserving the \"physical\" layout of arr.\n",
    "    \"\"\"\n",
    "    h, w = arr.shape\n",
    "    assert h % nrows == 0, f\"{h} rows is not evenly divisible by {nrows}\"\n",
    "    assert w % ncols == 0, f\"{w} cols is not evenly divisible by {ncols}\"\n",
    "    return (arr.reshape(h//nrows, nrows, -1, ncols)\n",
    "               .swapaxes(1,2)\n",
    "               .reshape(-1, nrows, ncols))\n",
    "\n",
    "\n",
    "def entropy(binary_image):\n",
    "    cancer_cells = np.sum(binary_image * 1)\n",
    "    col_divided = blockshaped(binary_image,100,100)\n",
    "    \n",
    "    list_of_entropies = []\n",
    "    \n",
    "    for instance in col_divided:\n",
    "        number_of_cells = np.sum(instance * 1)\n",
    "        #print(number_of_cells)\n",
    "        if number_of_cells != 0:\n",
    "            small_n = np.sum(number_of_cells * 1)\n",
    "            ent_time = small_n / cancer_cells\n",
    "            frame = ent_time * np.log(ent_time)\n",
    "            list_of_entropies.append(-frame)\n",
    "        else:\n",
    "            list_of_entropies.append(0)\n",
    "    return(list_of_entropies)\n",
    "\n",
    "\n",
    "def sorted_nicely( l ): \n",
    "    \"\"\" Sort the given iterable in the way that humans expect.\"\"\" \n",
    "    convert = lambda text: int(text) if text.isdigit() else text \n",
    "    alphanum_key = lambda key: [ convert(c) for c in re.split('([0-9]+)', key) ] \n",
    "    return sorted(l, key = alphanum_key)\n",
    "\n",
    "\n",
    "\n",
    "pixel_thresh = 3.5\n",
    "lop_off_inteval = 116"
   ]
  },
  {
   "cell_type": "code",
   "execution_count": 2,
   "id": "2f5d2706-b83e-41c3-b532-802cd7402e71",
   "metadata": {
    "execution": {
     "iopub.execute_input": "2025-02-24T03:07:42.206948Z",
     "iopub.status.busy": "2025-02-24T03:07:42.206609Z",
     "iopub.status.idle": "2025-02-24T03:07:42.210242Z",
     "shell.execute_reply": "2025-02-24T03:07:42.209826Z"
    }
   },
   "outputs": [
    {
     "name": "stdout",
     "output_type": "stream",
     "text": [
      "[['B2', 'D2', 'F2', 'H2', 'J2'], ['B4', 'D4', 'F4', 'H4', 'J4'], ['B6', 'D6', 'F6', 'H6', 'J6'], ['B8', 'D8', 'F8', 'H8', 'J8'], ['B10', 'D10', 'F10', 'H10', 'J10'], ['B12', 'D12', 'F12', 'H12', 'J12']]\n"
     ]
    }
   ],
   "source": [
    "rasa_slider = []\n",
    "\n",
    "high_et = ['B','D','F','H','J']\n",
    "for i in range(2,14,2):\n",
    "    rasas = [str(i)]\n",
    "    combos = list(itertools.product(high_et, rasas))\n",
    "    newlist = [\"\".join(item) for item in combos ]\n",
    "    rasa_slider.append(newlist)\n",
    "\n",
    "print(rasa_slider)\n",
    "\n",
    "low_high_rasa = [rasa_slider[1],rasa_slider[-2]]\n",
    "\n",
    "# use very small subset of wells for proof of concept\n",
    "# low_high_rasa = [['B4', 'D4'], ['B10', 'D10']]\n",
    "\n",
    "# create list of integer donor IDs that we wish to use\n",
    "donor_ids = [1,2,3,4]\n",
    "# donor_ids = [1]"
   ]
  },
  {
   "cell_type": "code",
   "execution_count": 3,
   "id": "41947917",
   "metadata": {
    "execution": {
     "iopub.execute_input": "2025-02-24T03:07:42.211451Z",
     "iopub.status.busy": "2025-02-24T03:07:42.211195Z",
     "iopub.status.idle": "2025-02-24T03:07:42.215323Z",
     "shell.execute_reply": "2025-02-24T03:07:42.214960Z"
    }
   },
   "outputs": [
    {
     "data": {
      "text/plain": [
       "[['B4', 'D4', 'F4', 'H4', 'J4'], ['B10', 'D10', 'F10', 'H10', 'J10']]"
      ]
     },
     "execution_count": 3,
     "metadata": {},
     "output_type": "execute_result"
    }
   ],
   "source": [
    "low_high_rasa"
   ]
  },
  {
   "cell_type": "code",
   "execution_count": 4,
   "id": "281b52fa",
   "metadata": {
    "execution": {
     "iopub.execute_input": "2025-02-24T03:07:42.216582Z",
     "iopub.status.busy": "2025-02-24T03:07:42.216334Z",
     "iopub.status.idle": "2025-02-24T03:07:42.221300Z",
     "shell.execute_reply": "2025-02-24T03:07:42.220888Z"
    }
   },
   "outputs": [],
   "source": [
    "def plot_representative_fn(well_id, donor_id, time_point, trim=100, lab_folder_path='/gladstone/engelhardt/lab/', save_path=None):\n",
    "    '''\n",
    "    Given a well id, donor id, and time point, plot the representative bright field + RFP image\n",
    "    '''\n",
    "    # create a list of all the image file paths that correspond to this donor_id\n",
    "    donor_location_phase = lab_folder_path + \"MarsonLabIncucyteData/AnalysisFiles/4DonorAssay/registered_images/Donor{}/phase_registered/*tif\".format(donor_id)\n",
    "    donor_location_red = lab_folder_path + \"MarsonLabIncucyteData/AnalysisFiles/4DonorAssay/registered_images/Donor{}/red_registered/*tif\".format(donor_id)\n",
    "    files_phase = glob.glob(donor_location_phase)\n",
    "    files_red = glob.glob(donor_location_red)\n",
    "\n",
    "    # find the list of file paths that correspond to the specified well_id\n",
    "    # store all image paths from this well in a list, sorted by timepoint\n",
    "    #phase\n",
    "    matching = [s for s in files_phase if (well_id + \"_\") in s]\n",
    "    sorted_file_list_phase = (sorted_nicely(matching))\n",
    "    # #red\n",
    "    matching = [s for s in files_red if (well_id + \"_\") in s]\n",
    "    sorted_file_list_red = (sorted_nicely(matching))\n",
    "\n",
    "    # subset the list to the specified time point and load the images\n",
    "    resized_latish_phase = tiff.imread(sorted_file_list_phase[time_point])\n",
    "    resized_latish_red = tiff.imread(sorted_file_list_red[time_point])\n",
    "    # threshold the red channel into a binary mask\n",
    "    red_frame = resized_latish_red > 3.5\n",
    "\n",
    "    # normalize intensity of the phase image\n",
    "    phase_frame = cv.normalize(resized_latish_phase, None, 0, 255, cv.NORM_MINMAX).astype('uint8') \n",
    "\n",
    "    # plot the phase image with the red mask superimposed\n",
    "    plt.figure(figsize=(6,6))\n",
    "    trim=100\n",
    "    plt.imshow(red_frame[trim:-trim,trim:-trim], cmap='Reds', alpha = 1.0)\n",
    "    plt.imshow(phase_frame[trim:-trim,trim:-trim], cmap='gray', alpha = .75)\n",
    "    plt.title('Well: {}, Donor: {}, Time: {}'.format(well_id,donor_id,time_point), size = 12)\n",
    "    # remove the axes ticks and labels\n",
    "    plt.axis('off')\n",
    "\n",
    "    if save_path is not None:\n",
    "        plt.savefig(save_path, dpi=300, bbox_inches='tight')\n",
    "    plt.show()\n",
    "    \n",
    "    return\n",
    "\n",
    "\n",
    "# plot_representative_fn(well_id='B4', donor_id=1, time_point=25, save_path=None)"
   ]
  },
  {
   "cell_type": "code",
   "execution_count": 5,
   "id": "60748e6d-46e4-4295-bafc-cbb954086c1d",
   "metadata": {
    "execution": {
     "iopub.execute_input": "2025-02-24T03:07:42.222519Z",
     "iopub.status.busy": "2025-02-24T03:07:42.222262Z",
     "iopub.status.idle": "2025-02-24T05:36:25.500388Z",
     "shell.execute_reply": "2025-02-24T05:36:25.500015Z"
    }
   },
   "outputs": [
    {
     "name": "stdout",
     "output_type": "stream",
     "text": [
      "/gladstone/engelhardt/lab/MarsonLabIncucyteData/AnalysisFiles/4DonorAssay/registered_images/Donor1/phase_registered/*tif\n",
      "B4 1 67\n"
     ]
    },
    {
     "name": "stdout",
     "output_type": "stream",
     "text": [
      "D4 1 67\n"
     ]
    },
    {
     "name": "stdout",
     "output_type": "stream",
     "text": [
      "F4 1 67\n"
     ]
    },
    {
     "name": "stdout",
     "output_type": "stream",
     "text": [
      "H4 1 67\n"
     ]
    },
    {
     "name": "stdout",
     "output_type": "stream",
     "text": [
      "J4 1 67\n"
     ]
    },
    {
     "name": "stdout",
     "output_type": "stream",
     "text": [
      "B10 1 67\n"
     ]
    },
    {
     "name": "stdout",
     "output_type": "stream",
     "text": [
      "D10 1 67\n"
     ]
    },
    {
     "name": "stdout",
     "output_type": "stream",
     "text": [
      "F10 1 67\n"
     ]
    },
    {
     "name": "stdout",
     "output_type": "stream",
     "text": [
      "H10 1 67\n"
     ]
    },
    {
     "name": "stdout",
     "output_type": "stream",
     "text": [
      "J10 1 67\n"
     ]
    },
    {
     "name": "stdout",
     "output_type": "stream",
     "text": [
      "/gladstone/engelhardt/lab/MarsonLabIncucyteData/AnalysisFiles/4DonorAssay/registered_images/Donor2/phase_registered/*tif\n",
      "B4 2 66\n"
     ]
    },
    {
     "name": "stdout",
     "output_type": "stream",
     "text": [
      "D4 2 66\n"
     ]
    },
    {
     "name": "stdout",
     "output_type": "stream",
     "text": [
      "F4 2 66\n"
     ]
    },
    {
     "name": "stdout",
     "output_type": "stream",
     "text": [
      "H4 2 66\n"
     ]
    },
    {
     "name": "stdout",
     "output_type": "stream",
     "text": [
      "J4 2 66\n"
     ]
    },
    {
     "name": "stdout",
     "output_type": "stream",
     "text": [
      "B10 2 66\n"
     ]
    },
    {
     "name": "stdout",
     "output_type": "stream",
     "text": [
      "D10 2 66\n"
     ]
    },
    {
     "name": "stdout",
     "output_type": "stream",
     "text": [
      "F10 2 66\n"
     ]
    },
    {
     "name": "stdout",
     "output_type": "stream",
     "text": [
      "H10 2 67\n"
     ]
    },
    {
     "name": "stdout",
     "output_type": "stream",
     "text": [
      "J10 2 67\n"
     ]
    },
    {
     "name": "stdout",
     "output_type": "stream",
     "text": [
      "/gladstone/engelhardt/lab/MarsonLabIncucyteData/AnalysisFiles/4DonorAssay/registered_images/Donor3/phase_registered/*tif\n",
      "B4 3 68\n"
     ]
    },
    {
     "name": "stdout",
     "output_type": "stream",
     "text": [
      "D4 3 68\n"
     ]
    },
    {
     "name": "stdout",
     "output_type": "stream",
     "text": [
      "F4 3 68\n"
     ]
    },
    {
     "name": "stdout",
     "output_type": "stream",
     "text": [
      "H4 3 68\n"
     ]
    },
    {
     "name": "stdout",
     "output_type": "stream",
     "text": [
      "J4 3 68\n"
     ]
    },
    {
     "name": "stdout",
     "output_type": "stream",
     "text": [
      "B10 3 68\n"
     ]
    },
    {
     "name": "stdout",
     "output_type": "stream",
     "text": [
      "D10 3 68\n"
     ]
    },
    {
     "name": "stdout",
     "output_type": "stream",
     "text": [
      "F10 3 68\n"
     ]
    },
    {
     "name": "stdout",
     "output_type": "stream",
     "text": [
      "H10 3 68\n"
     ]
    },
    {
     "name": "stdout",
     "output_type": "stream",
     "text": [
      "J10 3 68\n"
     ]
    },
    {
     "name": "stdout",
     "output_type": "stream",
     "text": [
      "/gladstone/engelhardt/lab/MarsonLabIncucyteData/AnalysisFiles/4DonorAssay/registered_images/Donor4/phase_registered/*tif\n",
      "B4 4 68\n"
     ]
    },
    {
     "name": "stdout",
     "output_type": "stream",
     "text": [
      "D4 4 68\n"
     ]
    },
    {
     "name": "stdout",
     "output_type": "stream",
     "text": [
      "F4 4 68\n"
     ]
    },
    {
     "name": "stdout",
     "output_type": "stream",
     "text": [
      "H4 4 68\n"
     ]
    },
    {
     "name": "stdout",
     "output_type": "stream",
     "text": [
      "J4 4 68\n"
     ]
    },
    {
     "name": "stdout",
     "output_type": "stream",
     "text": [
      "B10 4 68\n"
     ]
    },
    {
     "name": "stdout",
     "output_type": "stream",
     "text": [
      "D10 4 68\n"
     ]
    },
    {
     "name": "stdout",
     "output_type": "stream",
     "text": [
      "F10 4 68\n"
     ]
    },
    {
     "name": "stdout",
     "output_type": "stream",
     "text": [
      "H10 4 68\n"
     ]
    },
    {
     "name": "stdout",
     "output_type": "stream",
     "text": [
      "J10 4 68\n"
     ]
    },
    {
     "name": "stderr",
     "output_type": "stream",
     "text": [
      "/gladstone/engelhardt/home/adamw/miniforge3/envs/saft/lib/python3.11/site-packages/anndata/_core/anndata.py:1756: UserWarning: Observation names are not unique. To make them unique, call `.obs_names_make_unique`.\n",
      "  utils.warn_names_duplicates(\"obs\")\n"
     ]
    },
    {
     "data": {
      "text/plain": [
       "AnnData object with n_obs × n_vars = 7202103 × 128\n",
       "    obs: 'donor_id', 'time', 'rasa', 'well_id', 'entropy', 'p_areas', 'filename', 'scales', 'x', 'y'"
      ]
     },
     "execution_count": 5,
     "metadata": {},
     "output_type": "execute_result"
    }
   ],
   "source": [
    "\n",
    "\n",
    "# store a list of all the adata objects from each image\n",
    "adata_list = []\n",
    "\n",
    "# set the appropriate lab folder path based on the location of the data\n",
    "# lab_folder_path = '/Volumes/Engelhardt-Lab/'\n",
    "lab_folder_path = '/gladstone/engelhardt/lab/'\n",
    "\n",
    "for donor_number in donor_ids:\n",
    "    donor_location_phase = lab_folder_path + \"MarsonLabIncucyteData/AnalysisFiles/4DonorAssay/registered_images/Donor{}/phase_registered/*tif\".format(donor_number)\n",
    "    donor_location_red = lab_folder_path + \"MarsonLabIncucyteData/AnalysisFiles/4DonorAssay/registered_images/Donor{}/red_registered/*tif\".format(donor_number)\n",
    "\n",
    "    print(donor_location_phase)\n",
    "    files_phase = glob.glob(donor_location_phase)\n",
    "    files_red = glob.glob(donor_location_red)\n",
    "\n",
    "    rasa_status = 0\n",
    "    for rasa_selection in low_high_rasa:\n",
    "        for sliding_rasa in rasa_selection:\n",
    "\n",
    "            # find all the file names for the red and phase channels of this donor and well\n",
    "            # phase\n",
    "            matching = [s for s in files_phase if (sliding_rasa + \"_\") in s]\n",
    "            sorted_file_list_phase = (sorted_nicely(matching))\n",
    "            # red\n",
    "            matching = [s for s in files_red if (sliding_rasa + \"_\") in s]\n",
    "            sorted_file_list_red = (sorted_nicely(matching))\n",
    "            print(sliding_rasa,donor_number,len(sorted_file_list_red))\n",
    "\n",
    "            # loop through the time points\n",
    "            max_times = len(sorted_file_list_phase)\n",
    "            \n",
    "            # # arbitrarily set max_times to 2 for now\n",
    "            # max_times = 2\n",
    "\n",
    "            # loop through all the time points\n",
    "            for t in range(max_times):\n",
    "\n",
    "                # load the images\n",
    "                resized_latish_phase = tiff.imread(sorted_file_list_phase[t])\n",
    "                resized_latish_red = tiff.imread(sorted_file_list_red[t])\n",
    "                # threshold the red channel into a binary mask\n",
    "                aggregate_threshed = resized_latish_red > 3.5    \n",
    "                \n",
    "                # normalize intensity of the phase image\n",
    "                phase_frame = cv.normalize(resized_latish_phase, None, 0, 255, cv.NORM_MINMAX).astype('uint8') \n",
    "\n",
    "                # compute the entropy and area of the red mask\n",
    "                red_frame = aggregate_threshed\n",
    "                red_resized = red_frame[16:-16,16:-16]\n",
    "                red_entropy = np.sum(entropy(red_resized))\n",
    "                p_areas = np.sum((red_frame * 1).ravel())\n",
    "\n",
    "                # detect SIFT keypoints and extract descriptors from the phase image\n",
    "                descriptor_extractor = sift()\n",
    "                descriptor_extractor.detect_and_extract(phase_frame)\n",
    "                keypoints1 = descriptor_extractor.keypoints\n",
    "                descriptors1 = descriptor_extractor.descriptors\n",
    "                scales1 = descriptor_extractor.octaves\n",
    "\n",
    "                # create AnnData object from the SIFT descriptors\n",
    "                temp_adata = ad.AnnData(X=descriptors1)\n",
    "\n",
    "                # add metadata to the AnnData object\n",
    "                temp_adata.obs['donor_id'] = donor_number\n",
    "                temp_adata.obs['time'] = t\n",
    "                temp_adata.obs['rasa'] = rasa_status\n",
    "                temp_adata.obs['well_id'] = sliding_rasa\n",
    "                temp_adata.obs['entropy'] = red_entropy\n",
    "                temp_adata.obs['p_areas'] = p_areas\n",
    "                temp_adata.obs['filename'] = sorted_file_list_phase[t]\n",
    "                temp_adata.obs['scales'] = scales1\n",
    "                temp_adata.obs['x'] = keypoints1[:,0]\n",
    "                temp_adata.obs['y'] = keypoints1[:,1]\n",
    "\n",
    "                # add a sift_ prefix to the variable names\n",
    "                temp_adata.var_names = ['sift_{}'.format(i) for i in range(128)]\n",
    "\n",
    "                # store the adata object for this image\n",
    "                adata_list.append(temp_adata)\n",
    "\n",
    "                # raise ValueError(\"stop here\")\n",
    "\n",
    "            rasa_status = rasa_status + 1\n",
    "    \n",
    "\n",
    "# concanenate all the adata objects by row\n",
    "adata = ad.concat(adata_list, join='outer')\n",
    "\n",
    "adata"
   ]
  },
  {
   "cell_type": "code",
   "execution_count": 6,
   "id": "e4a99855",
   "metadata": {
    "execution": {
     "iopub.execute_input": "2025-02-24T05:36:25.502243Z",
     "iopub.status.busy": "2025-02-24T05:36:25.501700Z",
     "iopub.status.idle": "2025-02-24T05:36:25.933803Z",
     "shell.execute_reply": "2025-02-24T05:36:25.933440Z"
    }
   },
   "outputs": [
    {
     "data": {
      "text/plain": [
       "(4731, 10)"
      ]
     },
     "execution_count": 6,
     "metadata": {},
     "output_type": "execute_result"
    }
   ],
   "source": [
    "# print the number of rows in adata that have well_id of B4 and t=1\n",
    "adata.obs[(adata.obs['well_id'] == 'B4') & (adata.obs['time'] == 0)].shape"
   ]
  },
  {
   "cell_type": "code",
   "execution_count": 7,
   "id": "58ce77cd-af8d-4ead-9a72-2dbaad3163a4",
   "metadata": {
    "execution": {
     "iopub.execute_input": "2025-02-24T05:36:25.935070Z",
     "iopub.status.busy": "2025-02-24T05:36:25.934872Z",
     "iopub.status.idle": "2025-02-24T05:37:16.727115Z",
     "shell.execute_reply": "2025-02-24T05:37:16.726680Z"
    }
   },
   "outputs": [],
   "source": [
    "# normalize the SIFT detectors\n",
    "scaler = StandardScaler()\n",
    "X=adata.X\n",
    "scaler.fit(X)\n",
    "X=scaler.transform(X)    \n",
    "\n",
    "# run pca using 30 components\n",
    "pca = PCA(n_components=30)\n",
    "x_new = pca.fit_transform(X)\n",
    "\n",
    "# add the pca coordinates to the adata object\n",
    "adata.obsm['X_pca'] = x_new\n",
    "\n"
   ]
  },
  {
   "cell_type": "code",
   "execution_count": 8,
   "id": "b587a584",
   "metadata": {
    "execution": {
     "iopub.execute_input": "2025-02-24T05:37:16.728810Z",
     "iopub.status.busy": "2025-02-24T05:37:16.728574Z",
     "iopub.status.idle": "2025-02-24T05:37:30.568924Z",
     "shell.execute_reply": "2025-02-24T05:37:30.568499Z"
    }
   },
   "outputs": [],
   "source": [
    "# extract the current date in the format YYYYMMDD\n",
    "current_date = datetime.datetime.now().strftime(\"%Y%m%d\")\n",
    "current_date\n",
    "\n",
    "# save the adata object\n",
    "adata.write('/gladstone/engelhardt/lab/adamw/saft_figuren/analysis/adata_{}.h5ad'.format(current_date))"
   ]
  }
 ],
 "metadata": {
  "kernelspec": {
   "display_name": "Python 3 (ipykernel)",
   "language": "python",
   "name": "python3"
  },
  "language_info": {
   "codemirror_mode": {
    "name": "ipython",
    "version": 3
   },
   "file_extension": ".py",
   "mimetype": "text/x-python",
   "name": "python",
   "nbconvert_exporter": "python",
   "pygments_lexer": "ipython3",
   "version": "3.11.4"
  }
 },
 "nbformat": 4,
 "nbformat_minor": 5
}
