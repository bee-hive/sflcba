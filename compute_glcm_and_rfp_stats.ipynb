{
 "cells": [
  {
   "cell_type": "code",
   "execution_count": 1,
   "metadata": {},
   "outputs": [],
   "source": [
    "import numpy as np\n",
    "import cv2 as cv\n",
    "import matplotlib.pyplot as plt\n",
    "import matplotlib.cm as cm\n",
    "import matplotlib.patches as patches\n",
    "import seaborn as sns\n",
    "import tiffile as tiff\n",
    "import glob\n",
    "import re\n",
    "import time\n",
    "import random\n",
    "import itertools\n",
    "import anndata as ad\n",
    "import pandas as pd\n",
    "from sklearn.cluster import KMeans\n",
    "from sklearn.metrics import silhouette_score\n",
    "from skimage.measure import shannon_entropy\n",
    "from skimage.transform import integral_image\n",
    "import scipy.stats as stats\n",
    "import statsmodels.api as sm\n",
    "from statsmodels.formula.api import ols\n",
    "from statsmodels.stats.multitest import multipletests\n",
    "\n",
    "random.seed(0)\n",
    "np.random.seed(0)"
   ]
  },
  {
   "cell_type": "code",
   "execution_count": null,
   "metadata": {},
   "outputs": [
    {
     "name": "stderr",
     "output_type": "stream",
     "text": [
      "/gladstone/engelhardt/home/adamw/miniforge3/envs/saft/lib/python3.11/site-packages/anndata/_core/anndata.py:1756: UserWarning: Observation names are not unique. To make them unique, call `.obs_names_make_unique`.\n",
      "  utils.warn_names_duplicates(\"obs\")\n"
     ]
    }
   ],
   "source": [
    "# load the anndata file with the SIFT descriptors\n",
    "adata = ad.read_h5ad('/gladstone/engelhardt/lab/adamw/saft_figuren/analysis/adata_20250225_kmeans.h5ad')\n",
    "\n",
    "# reset the index of the obs dataframe\n",
    "adata.obs = adata.obs.reset_index(drop=True)"
   ]
  },
  {
   "cell_type": "markdown",
   "metadata": {},
   "source": [
    "### Create functions for computing the RFP intensity statistics surrounding each ROI"
   ]
  },
  {
   "cell_type": "code",
   "execution_count": null,
   "metadata": {},
   "outputs": [
    {
     "name": "stderr",
     "output_type": "stream",
     "text": [
      "/gladstone/engelhardt/home/adamw/miniforge3/envs/saft/lib/python3.11/site-packages/anndata/_core/anndata.py:1756: UserWarning: Observation names are not unique. To make them unique, call `.obs_names_make_unique`.\n",
      "  utils.warn_names_duplicates(\"obs\")\n",
      "/tmp/ipykernel_2615112/1898182885.py:93: FutureWarning: The default of observed=False is deprecated and will be changed to True in a future version of pandas. Pass observed=False to retain current behavior or observed=True to adopt the future default and silence this warning.\n",
      "  for bf_path, image_df in adata2.obs.groupby('filename'):\n"
     ]
    },
    {
     "name": "stdout",
     "output_type": "stream",
     "text": [
      "Time to load RFP image: 0.00 seconds\n",
      "Time to compute RFP stats for 118 ROIs: 0.06 seconds\n",
      "Time to load RFP image: 0.00 seconds\n",
      "Time to compute RFP stats for 126 ROIs: 0.03 seconds\n",
      "Time to load RFP image: 0.00 seconds\n",
      "Time to compute RFP stats for 128 ROIs: 0.02 seconds\n",
      "Time to load RFP image: 0.00 seconds\n",
      "Time to compute RFP stats for 119 ROIs: 0.02 seconds\n",
      "Time to load RFP image: 0.00 seconds\n",
      "Time to compute RFP stats for 116 ROIs: 0.02 seconds\n"
     ]
    }
   ],
   "source": [
    "\n",
    "\n",
    "def compute_roi_boundaries(rfp_image, x, y, scales, octaves):\n",
    "    \"\"\"\n",
    "    Compute ROI boundaries for arrays of x, y, scales, and octaves.\n",
    "    \n",
    "    The ROI is a square centered at (x,y) with half-size given by\n",
    "      radius = scales * (2 ** (octaves + 1)).\n",
    "    \"\"\"\n",
    "    radii = scales * (2 ** (octaves + 1))\n",
    "    xmin = np.clip(np.floor(x - radii).astype(int), 0, rfp_image.shape[0])\n",
    "    xmax = np.clip(np.ceil(x + radii).astype(int), 0, rfp_image.shape[0])\n",
    "    ymin = np.clip(np.floor(y - radii).astype(int), 0, rfp_image.shape[1])\n",
    "    ymax = np.clip(np.ceil(y + radii).astype(int), 0, rfp_image.shape[1])\n",
    "    return xmin, xmax, ymin, ymax\n",
    "\n",
    "def compute_mean_intensities(rfp_image, df):\n",
    "    \"\"\"\n",
    "    Compute mean intensity for each ROI in the DataFrame using an integral image.\n",
    "    \n",
    "    Parameters:\n",
    "      rfp_image : 2D numpy array for the RFP channel.\n",
    "      df        : DataFrame containing columns 'x', 'y', 'scales', and 'octaves'.\n",
    "      \n",
    "    Returns:\n",
    "      A list of mean intensity values (one per ROI).\n",
    "    \"\"\"\n",
    "    # Extract ROI parameters as arrays.\n",
    "    x = df['x'].values\n",
    "    y = df['y'].values\n",
    "    scales = df['scales'].values\n",
    "    octaves = df['octaves'].values\n",
    "    \n",
    "    xmin, xmax, ymin, ymax = compute_roi_boundaries(rfp_image, x, y, scales, octaves)\n",
    "    \n",
    "    # Compute the integral image once.\n",
    "    ii = integral_image(rfp_image)\n",
    "    \n",
    "    mean_intensity = []\n",
    "    for i in range(len(x)):\n",
    "        x_min = xmin[i]\n",
    "        x_max = xmax[i]\n",
    "        y_min = ymin[i]\n",
    "        y_max = ymax[i]\n",
    "        area = (x_max - x_min) * (y_max - y_min)\n",
    "        if area <= 0:\n",
    "            mean_intensity.append(0)\n",
    "        else:\n",
    "            # Compute the sum using four look-ups.\n",
    "            A = ii[x_max-1, y_max-1] if (x_max-1 >= 0 and y_max-1 >= 0) else 0\n",
    "            B = ii[x_min-1, y_max-1] if x_min-1 >= 0 else 0\n",
    "            C = ii[x_max-1, y_min-1] if y_min-1 >= 0 else 0\n",
    "            D = ii[x_min-1, y_min-1] if (x_min-1 >= 0 and y_min-1 >= 0) else 0\n",
    "            sum_intensity = A - B - C + D\n",
    "            mean_intensity.append(sum_intensity / area)\n",
    "    return mean_intensity\n",
    "\n",
    "def compute_entropy_for_roi(rfp_image, row):\n",
    "    \"\"\"\n",
    "    Compute the Shannon entropy for a single ROI defined in the row.\n",
    "    \"\"\"\n",
    "    radius = row['scales'] * (2 ** (row['octaves'] + 1))\n",
    "    x_min = int(np.clip(np.floor(row['x'] - radius), 0, rfp_image.shape[0]))\n",
    "    x_max = int(np.clip(np.ceil(row['x'] + radius), 0, rfp_image.shape[0]))\n",
    "    y_min = int(np.clip(np.floor(row['y'] - radius), 0, rfp_image.shape[1]))\n",
    "    y_max = int(np.clip(np.ceil(row['y'] + radius), 0, rfp_image.shape[1]))\n",
    "    roi = rfp_image[x_min:x_max, y_min:y_max]\n",
    "    return shannon_entropy(roi)\n",
    "\n",
    "def compute_entropies(rfp_image, df):\n",
    "    \"\"\"\n",
    "    Compute Shannon entropies for all ROIs in the DataFrame.\n",
    "    \n",
    "    Uses a DataFrame.apply call to process each ROI.\n",
    "    \"\"\"\n",
    "    return df.apply(lambda row: compute_entropy_for_roi(rfp_image, row), axis=1)\n",
    "\n",
    "def load_image(row, rfp=False):\n",
    "    \"\"\"\n",
    "    Load an image based on the filename provided in the row.\n",
    "    If rfp is True, load the corresponding RFP channel image.\n",
    "    \"\"\"\n",
    "    if rfp:\n",
    "        filename = row['filename'].replace('phase_registered', 'red_registered')\n",
    "    else:\n",
    "        filename = row['filename']\n",
    "    return tiff.imread(filename)\n",
    "\n",
    "# ========================================================\n",
    "# Main loop: Process each image file (grouped by filename)\n",
    "# ========================================================\n",
    "adata2 = adata.copy()  # Create a copy of the anndata object each time I run this loop for testing purposes\n",
    "adata2.obs = adata2.obs.reset_index(drop=True)  # need to reset the index of the obs dataframe as there are repeats in the original index\n",
    "num_loops = 0\n",
    "for bf_path, image_df in adata2.obs.groupby('filename'):\n",
    "    start_time = time.time()\n",
    "    \n",
    "    # Load the RFP image only once for this group.\n",
    "    rfp_image = load_image(image_df.iloc[0], rfp=True)\n",
    "    print('Time to load RFP image: {:.2f} seconds'.format(time.time() - start_time))\n",
    "    \n",
    "    # Compute mean intensities for all ROIs in this image.\n",
    "    mean_intensities = compute_mean_intensities(rfp_image, image_df)\n",
    "    \n",
    "    # Compute entropies for all ROIs in this image.\n",
    "    entropies = compute_entropies(rfp_image, image_df)\n",
    "    \n",
    "    # Update the main DataFrame using .loc with the image_df indices.\n",
    "    adata2.obs.loc[image_df.index, 'roi_mean_rfp_intensity'] = mean_intensities\n",
    "    adata2.obs.loc[image_df.index, 'roi_rfp_entropy'] = entropies\n",
    "\n",
    "    end_time = time.time()\n",
    "    print(\"Time to compute RFP stats for {} ROIs: {:.2f} seconds\".format(image_df.shape[0], end_time - start_time))\n",
    "    num_loops += 1\n",
    "    \n",
    "    if num_loops == 5:\n",
    "        break  # Remove this break to process all images.\n"
   ]
  },
  {
   "cell_type": "code",
   "execution_count": 20,
   "metadata": {},
   "outputs": [
    {
     "data": {
      "text/plain": [
       "0.4787768361581921"
      ]
     },
     "execution_count": 20,
     "metadata": {},
     "output_type": "execute_result"
    }
   ],
   "source": [
    "((adata2.obs.shape[0] / 118) * 0.06 / 60) / 60"
   ]
  },
  {
   "cell_type": "code",
   "execution_count": null,
   "metadata": {},
   "outputs": [],
   "source": [
    "adata.obs.head()"
   ]
  },
  {
   "cell_type": "code",
   "execution_count": null,
   "metadata": {},
   "outputs": [],
   "source": [
    "((adata.obs.shape[0] / 118) * 2.85 / 60) / 60"
   ]
  },
  {
   "cell_type": "code",
   "execution_count": null,
   "metadata": {},
   "outputs": [],
   "source": []
  }
 ],
 "metadata": {
  "kernelspec": {
   "display_name": "Python 3 (ipykernel)",
   "language": "python",
   "name": "python3"
  },
  "language_info": {
   "codemirror_mode": {
    "name": "ipython",
    "version": 3
   },
   "file_extension": ".py",
   "mimetype": "text/x-python",
   "name": "python",
   "nbconvert_exporter": "python",
   "pygments_lexer": "ipython3",
   "version": "3.11.4"
  }
 },
 "nbformat": 4,
 "nbformat_minor": 2
}
